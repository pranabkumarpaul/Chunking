{
 "cells": [
  {
   "cell_type": "markdown",
   "metadata": {},
   "source": [
    "# Chunking.\n",
    "### A meaningful piece of text from the full text."
   ]
  },
  {
   "cell_type": "markdown",
   "metadata": {},
   "source": [
    " "
   ]
  },
  {
   "cell_type": "markdown",
   "metadata": {},
   "source": [
    "# Libraries."
   ]
  },
  {
   "cell_type": "code",
   "execution_count": 1,
   "metadata": {},
   "outputs": [],
   "source": [
    "# Importing Libraries.\n",
    "\n",
    "import nltk\n",
    "from textblob import TextBlob"
   ]
  },
  {
   "cell_type": "markdown",
   "metadata": {},
   "source": [
    "# Import Data & Data Preprocessing."
   ]
  },
  {
   "cell_type": "markdown",
   "metadata": {},
   "source": [
    " "
   ]
  },
  {
   "cell_type": "code",
   "execution_count": 2,
   "metadata": {},
   "outputs": [
    {
     "name": "stdout",
     "output_type": "stream",
     "text": [
      "The Format or The Type of the Data is:- <class 'bytes'>\n",
      "Total Length of the Raw Data is :- 120585\n"
     ]
    }
   ],
   "source": [
    "### Import the Text Data from WEB || Backup The Data || Find Format Of The Data\n",
    "from urllib.request import urlopen\n",
    "Link= 'https://www.gutenberg.org/files/65567/65567-0.txt'\n",
    "RAW_Data = urlopen(url= Link).read()\n",
    "Data_Backup = RAW_Data\n",
    "\n",
    "print('The Format or The Type of the Data is:-',type(RAW_Data))\n",
    "print('Total Length of the Raw Data is :-',len(RAW_Data))"
   ]
  },
  {
   "cell_type": "code",
   "execution_count": 3,
   "metadata": {},
   "outputs": [
    {
     "name": "stdout",
     "output_type": "stream",
     "text": [
      "After Conversion The Format or The Type of the Data is:- <class 'str'>\n"
     ]
    }
   ],
   "source": [
    "### Converting The Data into String Format\n",
    "RAW_Data= RAW_Data.decode(\"utf-8\")\n",
    "\n",
    "print('After Conversion The Format or The Type of the Data is:-',type(RAW_Data))"
   ]
  },
  {
   "cell_type": "code",
   "execution_count": 4,
   "metadata": {
    "scrolled": false
   },
   "outputs": [],
   "source": [
    "### Taking a small portion of the data for the Analysis.\n",
    "Text_Data= RAW_Data[1:6833]\n",
    "# Text_Data"
   ]
  },
  {
   "cell_type": "code",
   "execution_count": 5,
   "metadata": {},
   "outputs": [
    {
     "data": {
      "text/plain": [
       "\"The Project Gutenberg eBook of Chambers's Journal of Popular Literature Science and Art Fifth Series No 17 Vol I April 26 1884 by Various This eBook is for the use of anyone anywhere in the United States and most other parts of the world at no cost and with almost no restrictions whatsoever You may copy it give it away or re-use it under the terms of the Project Gutenberg License included with this eBook or online at wwwgutenbergorg If you are not located in the United States you will have to check the laws of the country where you are located before using this eBook Title Chambers's Journal of Popular Literature Science and Art Fifth Series No 17 Vol I April 26 1884 Editor Various Release Date June 8 2021 eBook #65567 Language English Character set encoding UTF-8 Produced by Susan Skinner Eric Hutton and the Online Distributed Proofreading Team at https//wwwpgdpnet (This file was produced from images generously made available by The Internet Archive) START OF THE PROJECT GUTENBERG EBOOK CHAMBERS'S JOURNAL OF POPULAR LITERATURE SCIENCE AND ART FIFTH SERIES NO 17 VOL I APRIL 26 1884 Illustration CHAMBERS’S JOURNAL OF POPULAR LITERATURE SCIENCE AND ART Fifth Series ESTABLISHED BY WILLIAM AND ROBERT CHAMBERS 1832 CONDUCTED BY R CHAMBERS (SECUNDUS) NO 17—VOL I SATURDAY APRIL 26 1884 PRICE 1½_d_ POST-OFFICE LIFE-ASSURANCE AND ANNUITIES The numerous aids which the government have from time to time afforded through the agency of the Post-office for the encouragement of thrift and providence amongst the poorer classes have generally been attended with so much success that it is surprising to hear of even one exception in regard to such efforts There is no doubt however as was pointed out two years ago in this _Journal_ that the existing scheme of Post-office Life-assurance and Annuities which has been in operation since 1865 has sadly hung fire and but little advantage has been taken of the system as may be inferred from the fact that although it has been established almost twenty years the total number of policies for life-assurance issued during that period is not more than six thousand five hundred and twenty-four; while the number of annuity contracts granted during the same period is only twelve thousand four hundred and thirty-five Taking the latest returns too we find that the life policies now existing have dwindled down to so low a number as four thousand six hundred and fifteen; while the number of annuity contracts now only reaches nine thousand three hundred and seventy-three These figures at once show how trifling and unimportant have been the results from this branch of Post-office business; but perhaps the causes for this want of success are not far to seek if we consider how circumscribed and restricted the present system is in its action It was but natural therefore that so energetic a reformer as Mr Fawcett should speedily turn his attention to this important subject on taking the helm in the affairs of the great department over which he has so ably presided during the past four years A select Committee of the House of Commons was appointed in 1882 of which the Postmaster-general was chairman; and after thoroughly inquiring into the whole subject that Committee unanimously recommended in their Report the adoption of a scheme for the amelioration of the present system of Post-office Life-assurance and Annuities which had been put forward and explained to them by Mr James J Cardin the present Assistant-receiver and Accountant-general to the Post-office An Act of Parliament was passed during the same session legalising the proposed changes; and as it is understood that the new system will be brought into operation on the first of May this year it seems desirable and indeed important that the undoubted benefits and privileges that will accrue therefrom should be made known as widely as possible The essential feature of the new Post-office scheme for assuring lives and granting annuities is that every person wishing to assure his or her life or to purchase an annuity through the Post-office shall become a depositor in the Post-office savings-bank—a plan that will offer to the public numerous facilities and a large amount of convenience in respect of this kind of business which have hitherto not existed In the first place the intending insurants or annuitants will in future be able for that purpose to go to any post-office savings-bank in the country—of which there are now over seven thousand At present life-assurance and annuity business can be transacted at only two thousand post-offices; but the intended system will at once place five thousand additional post-offices at the disposal of the public in this respect In the next place the cosmopolitanism of the savings-bank system will apply equally to the assurance and annuities business under its new conditions; and this it may be pointed out will prove an advantage of no mean order to the classes for whom Post-office Assurance and Annuities would appear to be chiefly designed if it be remembered how frequently working-men move about from place to place Under the present system the insurant or annuitant is tied to the particular post-office at which the insurance or the contract for the annuity was originally effected excepting by going through the formalities involved in giving notice to the chief office in London of a desire to change the place of payment of the premiums which by most persons of the classes concerned is regarded as a somewhat irksome job The great idea of the whole scheme seems to be to afford the public in respect of Post-office Assurance and Annuities a maximum amount of convenience with a minimum amount of trouble; and nothing could probably further this object more successfully than Mr Cardin’s scheme of working the assurance and annuities business in with that of the savings-bank; for all the advantages and benefits which the public now enjoy in regard to the latter-named branch of the Post-office will be equally shared by those who intend to assure their lives or purchase annuities through the same department Mr Fawcett who is a true champion of the principles of thrift has in all his schemes to this end recognised the supreme importance of simplicity in the necessary machinery so far as the public at all events are concerned; and it was probably the fact of such simplicity being a predominating feature of the new insurance scheme that commended it so favourably to Mr Fawcett’s mind \""
      ]
     },
     "execution_count": 5,
     "metadata": {},
     "output_type": "execute_result"
    }
   ],
   "source": [
    "### Cleaning the data.\n",
    "import re\n",
    "\n",
    "### Removing all the special characters.\n",
    "Text_Data_Cleaned= re.sub(r'[?|.|!|:|,|*|[|]|]',r'',Text_Data)\n",
    "\n",
    "### Removing tha [\\r\\n] tag.\n",
    "Text_Data_Cleaned = re.sub(r'[\\r\\n]',r' ',Text_Data_Cleaned)\n",
    "\n",
    "### Removing extra spaces in the text.\n",
    "Text_Data_Cleaned= re.sub(r' +', ' ', Text_Data_Cleaned)\n",
    "\n",
    "Text_Data_Cleaned"
   ]
  },
  {
   "cell_type": "markdown",
   "metadata": {},
   "source": [
    "# Tokenization."
   ]
  },
  {
   "cell_type": "code",
   "execution_count": 6,
   "metadata": {},
   "outputs": [
    {
     "name": "stdout",
     "output_type": "stream",
     "text": [
      "['The', 'Project', 'Gutenberg', 'eBook', 'of', 'Chambers', \"'s\", 'Journal', 'of', 'Popular', 'Literature', 'Science', 'and', 'Art', 'Fifth', 'Series', 'No', '17', 'Vol', 'I', 'April', '26', '1884', 'by', 'Various', 'This', 'eBook', 'is', 'for', 'the', 'use', 'of', 'anyone', 'anywhere', 'in', 'the', 'United', 'States', 'and', 'most', 'other', 'parts', 'of', 'the', 'world', 'at', 'no', 'cost', 'and', 'with', 'almost', 'no', 'restrictions', 'whatsoever', 'You', 'may', 'copy', 'it', 'give', 'it', 'away', 'or', 're-use', 'it', 'under', 'the', 'terms', 'of', 'the', 'Project', 'Gutenberg', 'License', 'included', 'with', 'this', 'eBook', 'or', 'online', 'at', 'wwwgutenbergorg', 'If', 'you', 'are', 'not', 'located', 'in', 'the', 'United', 'States', 'you', 'will', 'have', 'to', 'check', 'the', 'laws', 'of', 'the', 'country', 'where']\n"
     ]
    }
   ],
   "source": [
    "# Splitiing the sentence into words.\n",
    "word_tokens = nltk.word_tokenize(Text_Data_Cleaned)\n",
    "\n",
    "### Print sample tokens.\n",
    "print(word_tokens[:100])"
   ]
  },
  {
   "cell_type": "markdown",
   "metadata": {},
   "source": [
    "# POS Tagging."
   ]
  },
  {
   "cell_type": "code",
   "execution_count": 7,
   "metadata": {
    "scrolled": false
   },
   "outputs": [
    {
     "name": "stdout",
     "output_type": "stream",
     "text": [
      "[('The', 'DT'), ('Project', 'NNP'), ('Gutenberg', 'NNP'), ('eBook', 'NN'), ('of', 'IN'), ('Chambers', 'NNP'), (\"'s\", 'POS'), ('Journal', 'NNP'), ('of', 'IN'), ('Popular', 'NNP'), ('Literature', 'NNP'), ('Science', 'NNP'), ('and', 'CC'), ('Art', 'NNP'), ('Fifth', 'NNP'), ('Series', 'NNP'), ('No', 'NNP'), ('17', 'CD'), ('Vol', 'NNP'), ('I', 'PRP'), ('April', 'NNP'), ('26', 'CD'), ('1884', 'CD'), ('by', 'IN'), ('Various', 'NNP'), ('This', 'DT'), ('eBook', 'NN'), ('is', 'VBZ'), ('for', 'IN'), ('the', 'DT'), ('use', 'NN'), ('of', 'IN'), ('anyone', 'NN'), ('anywhere', 'RB'), ('in', 'IN'), ('the', 'DT'), ('United', 'NNP'), ('States', 'NNPS'), ('and', 'CC'), ('most', 'JJS'), ('other', 'JJ'), ('parts', 'NNS'), ('of', 'IN'), ('the', 'DT'), ('world', 'NN'), ('at', 'IN'), ('no', 'DT'), ('cost', 'NN'), ('and', 'CC'), ('with', 'IN'), ('almost', 'RB'), ('no', 'DT'), ('restrictions', 'NNS'), ('whatsoever', 'IN'), ('You', 'PRP'), ('may', 'MD'), ('copy', 'VB'), ('it', 'PRP'), ('give', 'VB'), ('it', 'PRP'), ('away', 'RB'), ('or', 'CC'), ('re-use', 'VB'), ('it', 'PRP'), ('under', 'IN'), ('the', 'DT'), ('terms', 'NNS'), ('of', 'IN'), ('the', 'DT'), ('Project', 'NNP'), ('Gutenberg', 'NNP'), ('License', 'NNP'), ('included', 'VBD'), ('with', 'IN'), ('this', 'DT'), ('eBook', 'NN'), ('or', 'CC'), ('online', 'NN'), ('at', 'IN'), ('wwwgutenbergorg', 'NN'), ('If', 'IN'), ('you', 'PRP'), ('are', 'VBP'), ('not', 'RB'), ('located', 'VBN'), ('in', 'IN'), ('the', 'DT'), ('United', 'NNP'), ('States', 'NNPS'), ('you', 'PRP'), ('will', 'MD'), ('have', 'VB'), ('to', 'TO'), ('check', 'VB'), ('the', 'DT'), ('laws', 'NNS'), ('of', 'IN'), ('the', 'DT'), ('country', 'NN'), ('where', 'WRB')]\n"
     ]
    }
   ],
   "source": [
    "# Applying POS_tagging\n",
    "pos_tagged_words = nltk.pos_tag(word_tokens)\n",
    "\n",
    "### Print sample POS Tags.\n",
    "print(pos_tagged_words[:100])"
   ]
  },
  {
   "cell_type": "markdown",
   "metadata": {},
   "source": [
    "# Word Chunks."
   ]
  },
  {
   "cell_type": "code",
   "execution_count": 8,
   "metadata": {
    "scrolled": false
   },
   "outputs": [
    {
     "name": "stdout",
     "output_type": "stream",
     "text": [
      "######## Nouns: \n",
      " Project Gutenberg eBook Chambers Journal Popular Literature Science Art Fifth Series No Vol April Various eBook use anyone United world cost Project Gutenberg License eBook online wwwgutenbergorg United country eBook Title Chambers Journal Popular Literature Science Art Fifth Series No Vol April Editor Various Release Date June eBook Language Character UTF-8 Produced Susan Skinner Eric Hutton Online Distributed Proofreading Team https//wwwpgdpnet file Internet Archive START THE PROJECT GUTENBERG EBOOK CHAMBERS JOURNAL OF POPULAR LITERATURE SCIENCE AND ART FIFTH SERIES NO VOL Illustration CHAMBERS ’ S JOURNAL OF POPULAR LITERATURE SCIENCE AND ART Fifth Series ESTABLISHED BY WILLIAM AND ROBERT CHAMBERS CONDUCTED BY R CHAMBERS SECUNDUS SATURDAY APRIL PRICE POST-OFFICE LIFE-ASSURANCE AND ANNUITIES government time time agency Post-office encouragement thrift providence poorer success exception regard doubt _Journal_ scheme Post-office Life-assurance Annuities operation fire advantage system fact number life-assurance period number annuity period life number thousand number annuity thousand branch Post-office business want success circumscribed system action therefore reformer Mr Fawcett attention subject helm department A Committee House Commons Postmaster-general chairman subject Committee Report adoption scheme amelioration system Post-office Life-assurance Annuities Mr James J Cardin Assistant-receiver Accountant-general Post-office Act Parliament session system operation May year therefrom feature Post-office scheme person life annuity Post-office depositor Post-office savings-bank—a plan amount convenience respect kind business place intending purpose savings-bank country—of life-assurance annuity business system place disposal public respect place cosmopolitanism system assurance business advantage order Post-office Assurance Annuities move place system insurant annuitant post-office insurance contract annuity excepting notice office London desire place payment job idea scheme public respect Post-office Assurance Annuities amount convenience amount trouble nothing object Mr Cardin ’ scheme assurance business savings-bank public regard branch Post-office purchase department Mr Fawcett champion thrift end importance simplicity machinery public fact simplicity predominating feature insurance scheme Mr Fawcett ’ mind \n",
      "\n",
      "\n",
      "######## Adjectives: \n",
      " most other English available numerous much surprising such hung little total twenty-four same twelve thirty-five latest low fifteen seventy-three trifling unimportant present natural important great past select whole present present same understood new first desirable important undoubted possible essential new public numerous large first future able post-office present thousand intended additional next savings-bank new mean working-men present particular chief most irksome great whole maximum minimum latter-named same true supreme necessary such new \n",
      "\n",
      "\n",
      "######## Overall sentiment score of ajdectives: \n",
      " Sentiment(polarity=0.13544597763347763, subjectivity=0.43126916486291483)\n"
     ]
    }
   ],
   "source": [
    "# Find Nouns or proper Nouns.\n",
    "Only_Nouns = (\" \").join([POStags[0] for POStags in pos_tagged_words if POStags[1] in ['NN','NNP']])\n",
    "\n",
    "# Find only Adjectives.\n",
    "Only_Adjectives= (\" \").join([POStags[0] for POStags in pos_tagged_words if POStags[1] in ['JJ','JJR','JJS']])\n",
    "\n",
    "print ('######## Nouns: \\n', Only_Nouns,'\\n\\n')\n",
    "print ('######## Adjectives: \\n', Only_Adjectives,'\\n\\n')\n",
    "print('######## Overall sentiment score of ajdectives: \\n',TextBlob(Only_Adjectives).sentiment)"
   ]
  },
  {
   "cell_type": "markdown",
   "metadata": {},
   "source": [
    "***\n",
    "***"
   ]
  },
  {
   "cell_type": "markdown",
   "metadata": {},
   "source": [
    "# Chunking by Multiple Grammer Rules.\n",
    "\n",
    " - ### Instead of just extracting nouns or adjectives, I can also extract specific combinations of Parts of Speech, e.g. an Adverb-Adjective-Noun combination."
   ]
  },
  {
   "cell_type": "code",
   "execution_count": 9,
   "metadata": {},
   "outputs": [],
   "source": [
    "# Generating grammer rules to find such sentences in data.\n",
    "PatternsToFind = '''NP: {<JJ><VBG>} \n",
    "                    NP: {<RB><JJ><NN>}\n",
    "                    '''"
   ]
  },
  {
   "cell_type": "code",
   "execution_count": 10,
   "metadata": {
    "scrolled": true
   },
   "outputs": [
    {
     "name": "stdout",
     "output_type": "stream",
     "text": [
      "(NP so/RB much/JJ success/NN)\n",
      "(NP sadly/RB hung/JJ fire/NN)\n",
      "(NP thirty-five/JJ Taking/VBG)\n",
      "(NP frequently/RB working-men/JJ move/NN)\n",
      "(NP somewhat/RB irksome/JJ job/NN)\n",
      "\n",
      "#######################################\n",
      "\n",
      "[[('so', 'RB'), ('much', 'JJ'), ('success', 'NN')], [('sadly', 'RB'), ('hung', 'JJ'), ('fire', 'NN')], [('thirty-five', 'JJ'), ('Taking', 'VBG')], [('frequently', 'RB'), ('working-men', 'JJ'), ('move', 'NN')], [('somewhat', 'RB'), ('irksome', 'JJ'), ('job', 'NN')]]\n"
     ]
    }
   ],
   "source": [
    "# Chunking the listed patterns.\n",
    "PatternParser = nltk.RegexpParser(PatternsToFind)\n",
    "ParsedResults = PatternParser.parse(pos_tagged_words)\n",
    "# print(ParsedResults)\n",
    "\n",
    "Output = []\n",
    "\n",
    "# Getting the pattern results from the text data.\n",
    "for results in ParsedResults:\n",
    "    #print(results,'--' ,type(results))\n",
    "    \n",
    "    # Printing only the extracted patterns\n",
    "    if(type(results)==nltk.tree.Tree):\n",
    "        Output.append(nltk.tree.Tree.leaves(results))\n",
    "        print(results)\n",
    "        #print(nltk.tree.Tree.leaves(results))\n",
    "        \n",
    "print('\\n#######################################\\n')        \n",
    "print(Output)        \n",
    "# ParsedResults.draw()"
   ]
  },
  {
   "cell_type": "markdown",
   "metadata": {},
   "source": [
    " "
   ]
  },
  {
   "cell_type": "markdown",
   "metadata": {},
   "source": [
    " "
   ]
  }
 ],
 "metadata": {
  "kernelspec": {
   "display_name": "Python 3",
   "language": "python",
   "name": "python3"
  },
  "language_info": {
   "codemirror_mode": {
    "name": "ipython",
    "version": 3
   },
   "file_extension": ".py",
   "mimetype": "text/x-python",
   "name": "python",
   "nbconvert_exporter": "python",
   "pygments_lexer": "ipython3",
   "version": "3.8.3"
  }
 },
 "nbformat": 4,
 "nbformat_minor": 4
}
